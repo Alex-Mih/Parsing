{
 "cells": [
  {
   "cell_type": "code",
   "execution_count": null,
   "metadata": {},
   "outputs": [],
   "source": [
    "Парсер товаров с сайта sbermarket.ru/lenta\n",
    "Код частично удален, полный код можно запросить тут: 9m6@bk.ru "
   ]
  },
  {
   "cell_type": "code",
   "execution_count": 2,
   "metadata": {},
   "outputs": [],
   "source": [
    "import requests\n",
    "from bs4 import BeautifulSoup\n",
    "import csv\n",
    "import os\n",
    "import re"
   ]
  },
  {
   "cell_type": "code",
   "execution_count": 54,
   "metadata": {},
   "outputs": [],
   "source": [
    "URL = 'https://sbermarket.ru/lenta/c/dieshievlie-chiem-na-polkie/bakalieia?discounted=true'\n",
    "HEADERS = {'user-agent': 'Mozilla/5.0 (Windows NT 10.0; Win64; x64; rv:87.0) Gecko/20100101 Firefox/87.0', 'accept': '*/*'}\n",
    "HOST = 'https://sbermarket.ru'\n",
    "FILE = 'lenta.csv'"
   ]
  },
  {
   "cell_type": "code",
   "execution_count": 4,
   "metadata": {},
   "outputs": [],
   "source": [
    "def get_html(url, params=None):\n",
    "    request = requests.get(url, headers=HEADERS, params=params)\n",
    "    return request"
   ]
  },
  {
   "cell_type": "code",
   "execution_count": 39,
   "metadata": {},
   "outputs": [],
   "source": [
    "def get_pages_count(html):\n",
    "    soup = BeautifulSoup(html, 'html.parser')\n",
    "    pagination = soup.find_all('a', class_='gradient')[1:-1]\n",
    "    if pagination:\n",
    "        return int(pagination[-1].get_text())\n",
    "    else:\n",
    "        return 1"
   ]
  },
  {
   "cell_type": "code",
   "execution_count": 51,
   "metadata": {},
   "outputs": [],
   "source": [
    "def get_content(html):\n",
    "    soup = BeautifulSoup(html, 'html.parser')\n",
    "    items = soup.find_all('li', class_='product')\n",
    "    schools = []\n",
    "    for item in items:\n",
    "        schools.append({\n",
    "            'title': item.find('p', class_='product__title').get_text(strip=True), \n",
    "            'sale': int(re.sub(\"-|%| \",\"\",item.find('div', class_='price-discount-info__item price-discount-info__item--percent').get_text(strip=True))),\n",
    "            'price': re.sub(\"-|₽| \",\"\",item.find('div', class_='price price--default').get_text(strip=True)),\n",
    "            'site': HOST + item.find('a', class_='product__link').get('href')\n",
    "        })\n",
    "    return schools"
   ]
  },
  {
   "cell_type": "code",
   "execution_count": 49,
   "metadata": {},
   "outputs": [],
   "source": [
    "def save_file(items, path):\n",
    "    with open(path, 'w', newline='') as file:\n",
    "        writer = csv.writer(file, delimiter=';')\n",
    "        writer.writerow(['Продукт', 'Скидка', 'Цена','Ссылка'])\n",
    "        for item in items:\n",
    "            writer.writerow([item['title'], item['sale'], item['price'], item['site']])"
   ]
  }
 ],
 "metadata": {
  "kernelspec": {
   "display_name": "Python 3",
   "language": "python",
   "name": "python3"
  },
  "language_info": {
   "codemirror_mode": {
    "name": "ipython",
    "version": 3
   },
   "file_extension": ".py",
   "mimetype": "text/x-python",
   "name": "python",
   "nbconvert_exporter": "python",
   "pygments_lexer": "ipython3",
   "version": "3.8.5"
  }
 },
 "nbformat": 4,
 "nbformat_minor": 4
}
