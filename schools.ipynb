{
 "cells": [
  {
   "cell_type": "code",
   "execution_count": null,
   "metadata": {},
   "outputs": [],
   "source": [
    "Парсер частных школ РФ"
   ]
  },
  {
   "cell_type": "code",
   "execution_count": 1,
   "metadata": {},
   "outputs": [],
   "source": [
    "import requests\n",
    "from bs4 import BeautifulSoup\n",
    "import csv\n",
    "import os\n",
    "import re"
   ]
  },
  {
   "cell_type": "code",
   "execution_count": 2,
   "metadata": {},
   "outputs": [],
   "source": [
    "URL = 'https://www.orgpage.ru/rossiya/%D1%87%D0%B0%D1%81%D1%82%D0%BD%D1%8B%D0%B5_%D1%88%D0%BA%D0%BE%D0%BB%D1%8B/'\n",
    "HEADERS = {'user-agent': 'Mozilla/5.0 (Windows NT 10.0; Win64; x64; rv:87.0) Gecko/20100101 Firefox/87.0', 'accept': '*/*'}\n",
    "FILE = 'schools.csv'"
   ]
  },
  {
   "cell_type": "code",
   "execution_count": 3,
   "metadata": {},
   "outputs": [],
   "source": [
    "def get_html(url, params=None):\n",
    "    request = requests.get(url, headers=HEADERS, params=params)\n",
    "    return request"
   ]
  },
  {
   "cell_type": "code",
   "execution_count": 4,
   "metadata": {},
   "outputs": [],
   "source": [
    "def get_pages_count(html):\n",
    "    soup = BeautifulSoup(html, 'html.parser')\n",
    "    pagination = soup.find_all('a', class_='gradient')[1:-1]\n",
    "    if pagination:\n",
    "        return int(pagination[-1].get_text())\n",
    "    else:\n",
    "        return 1"
   ]
  },
  {
   "cell_type": "code",
   "execution_count": 5,
   "metadata": {},
   "outputs": [],
   "source": [
    "def get_content(html):\n",
    "    soup = BeautifulSoup(html, 'html.parser')\n",
    "    items = soup.find_all('div', class_='object-item similar-item')\n",
    "    schools = []\n",
    "    for item in items:\n",
    "        schools.append({\n",
    "            'title': item.find('div', class_='similar-item__title').get_text(strip=True).lstrip('0123456789.'),\n",
    "            'description': item.find('div', class_='similar-item__description').get_text(strip=True),\n",
    "            'phone': re.sub(\"[-|+|)|(|-| ]\",\"\",item.find('div', class_='phone').get_text(strip=True)),\n",
    "            'site': item.find('div', class_='similar-item__phone').get_text(strip=True).lstrip('+ )(-0123456789.'),\n",
    "            'region': item.find('div', class_='similar-item__adrss-item').get_text(strip=True).split(\",\")[0],\n",
    "            'address': item.find('div', class_='similar-item__adrss-item').get_text(strip=True),\n",
    "        })\n",
    "    return schools\n"
   ]
  },
  {
   "cell_type": "code",
   "execution_count": 6,
   "metadata": {},
   "outputs": [],
   "source": [
    "def save_file(items, path):\n",
    "    with open(path, 'w', newline='') as file:\n",
    "        writer = csv.writer(file, delimiter=';')\n",
    "        writer.writerow(['Школа', 'Описание', 'Телефон','Сайт','Регион','Адрес'])\n",
    "        for item in items:\n",
    "            writer.writerow([item['title'], item['description'], item['phone'],\n",
    "                             item['site'], item['region'], item['address']])"
   ]
  },
  {
   "cell_type": "code",
   "execution_count": 7,
   "metadata": {},
   "outputs": [
    {
     "name": "stdout",
     "output_type": "stream",
     "text": [
      "Парсинг страницы 1 из 10...\n",
      "Парсинг страницы 2 из 10...\n",
      "Парсинг страницы 3 из 10...\n",
      "Парсинг страницы 4 из 10...\n",
      "Парсинг страницы 5 из 10...\n",
      "Парсинг страницы 6 из 10...\n",
      "Парсинг страницы 7 из 10...\n",
      "Парсинг страницы 8 из 10...\n",
      "Парсинг страницы 9 из 10...\n",
      "Парсинг страницы 10 из 10...\n",
      "Получено 270 школ\n"
     ]
    }
   ],
   "source": [
    "def parse():\n",
    "    html = get_html(URL)\n",
    "    if html.status_code == 200:\n",
    "        schools = []\n",
    "        pages_count = get_pages_count(html.text)\n",
    "        for page in range(1, pages_count + 1):\n",
    "            print(f'Выполнено {page} из {pages_count}...')\n",
    "            html = get_html(URL, params={'page': page})\n",
    "            schools.extend(get_content(html.text))\n",
    "        save_file(schools, FILE)\n",
    "        print(f'Получено {len(schools)} строк')\n",
    "        os.startfile(FILE)\n",
    "    else:\n",
    "        print('Error')\n",
    "\n",
    "\n",
    "parse()"
   ]
  }
 ],
 "metadata": {
  "kernelspec": {
   "display_name": "Python 3",
   "language": "python",
   "name": "python3"
  },
  "language_info": {
   "codemirror_mode": {
    "name": "ipython",
    "version": 3
   },
   "file_extension": ".py",
   "mimetype": "text/x-python",
   "name": "python",
   "nbconvert_exporter": "python",
   "pygments_lexer": "ipython3",
   "version": "3.8.5"
  }
 },
 "nbformat": 4,
 "nbformat_minor": 4
}
