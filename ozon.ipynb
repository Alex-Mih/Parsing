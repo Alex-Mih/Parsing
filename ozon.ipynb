{
 "cells": [
  {
   "cell_type": "code",
   "execution_count": null,
   "metadata": {},
   "outputs": [],
   "source": [
    "Парсер книг с сайта ozon.ru\n",
    "Код частично удален, полный код можно запросить тут: 9m6@bk.ru"
   ]
  },
  {
   "cell_type": "code",
   "execution_count": 12,
   "metadata": {},
   "outputs": [],
   "source": [
    "import requests\n",
    "from bs4 import BeautifulSoup\n",
    "import csv\n",
    "import os\n",
    "import re\n",
    "import time"
   ]
  },
  {
   "cell_type": "code",
   "execution_count": 2,
   "metadata": {},
   "outputs": [],
   "source": [
    "URL = 'https://www.ozon.ru/highlight/skidka-na-knigi-145209/?sorting=discount'\n",
    "HEADERS = {'user-agent': 'Mozilla/5.0 (Windows NT 10.0; Win64; x64; rv:87.0) Gecko/20100101 Firefox/87.0', 'accept': '*/*'}\n",
    "HOST = 'https://www.ozon.ru'\n",
    "FILE = 'ozon_book.csv'"
   ]
  },
  {
   "cell_type": "code",
   "execution_count": 3,
   "metadata": {},
   "outputs": [],
   "source": [
    "def get_html(url, params=None):\n",
    "    request = requests.get(url, headers=HEADERS, params=params)\n",
    "    return request"
   ]
  },
  {
   "cell_type": "code",
   "execution_count": 8,
   "metadata": {},
   "outputs": [],
   "source": [
    "def get_pages_count(html):\n",
    "    soup = BeautifulSoup(html, 'html.parser')\n",
    "    pagination = soup.find_all('a', class_='gradient')[1:-1]\n",
    "    if pagination:\n",
    "        return int(pagination[-1].get_text())\n",
    "    else:\n",
    "        return 1"
   ]
  },
  {
   "cell_type": "code",
   "execution_count": 6,
   "metadata": {},
   "outputs": [],
   "source": [
    "def save_file(items, path):\n",
    "    with open(path, 'w', newline='') as file:\n",
    "        writer = csv.writer(file, delimiter=';')\n",
    "        writer.writerow(['Книга', 'Цена', 'Старая цена','Ссылка'])\n",
    "        for item in items:\n",
    "            writer.writerow([item['title'], item['price'], item['old'], item['site']])"
   ]
  },
  {
   "cell_type": "code",
   "execution_count": 21,
   "metadata": {},
   "outputs": [
    {
     "name": "stdout",
     "output_type": "stream",
     "text": [
      "1\n"
     ]
    }
   ],
   "source": [
    "def parse():\n",
    "    html = get_html(URL)\n",
    "    if html.status_code == 200:\n",
    "        schools = []\n",
    "        html = get_html(URL)\n",
    "        print(get_content(html.text))\n",
    "        save_file(schools, FILE)\n",
    "        os.startfile(FILE)\n",
    "    else:\n",
    "        print('Error')\n",
    "\n",
    "parse()"
   ]
  }
 ],
 "metadata": {
  "kernelspec": {
   "display_name": "Python 3",
   "language": "python",
   "name": "python3"
  },
  "language_info": {
   "codemirror_mode": {
    "name": "ipython",
    "version": 3
   },
   "file_extension": ".py",
   "mimetype": "text/x-python",
   "name": "python",
   "nbconvert_exporter": "python",
   "pygments_lexer": "ipython3",
   "version": "3.8.5"
  }
 },
 "nbformat": 4,
 "nbformat_minor": 4
}
